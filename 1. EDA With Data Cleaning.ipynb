{
 "cells": [
  {
   "cell_type": "markdown",
   "metadata": {},
   "source": [
    "<font size=\"3\" color='blue'> ASM Golam Sarwar</font>\n",
    "<nav>\n",
    "<a href=”https://www.linkedin.com/in/asm-golam-sarwar/\">LinkedIn</a>\n",
    "</nav>"
   ]
  },
  {
   "cell_type": "markdown",
   "metadata": {},
   "source": [
    "# Import required library"
   ]
  },
  {
   "cell_type": "code",
   "execution_count": null,
   "metadata": {},
   "outputs": [],
   "source": [
    "# Install below additional libraries\n",
    "!pip install pycaret\n",
    "!pip install pandas-profiling"
   ]
  },
  {
   "cell_type": "code",
   "execution_count": 1,
   "metadata": {},
   "outputs": [],
   "source": [
    "import pandas as pd\n",
    "import os\n",
    "from pandas_profiling import ProfileReport\n",
    "\n",
    "\n",
    "# Adjust display max row and column\n",
    "pd.set_option('display.max_columns', None)\n",
    "pd.set_option('display.max_rows', None)"
   ]
  },
  {
   "cell_type": "markdown",
   "metadata": {},
   "source": [
    "# Load input file"
   ]
  },
  {
   "cell_type": "code",
   "execution_count": 2,
   "metadata": {},
   "outputs": [
    {
     "data": {
      "text/plain": [
       "(2434863, 37)"
      ]
     },
     "execution_count": 2,
     "metadata": {},
     "output_type": "execute_result"
    }
   ],
   "source": [
    "df_main = pd.read_csv(os.getcwd()+'/input_data/customers.csv')\n",
    "\n",
    "# Get to know the input file dimension\n",
    "df_main.shape"
   ]
  },
  {
   "cell_type": "code",
   "execution_count": 3,
   "metadata": {},
   "outputs": [],
   "source": [
    "# Replace space in the column name\n",
    "df_main.columns = [c.replace(' ','_') for c in df_main.columns]"
   ]
  },
  {
   "cell_type": "code",
   "execution_count": 22,
   "metadata": {},
   "outputs": [
    {
     "data": {
      "text/html": [
       "<div>\n",
       "<style scoped>\n",
       "    .dataframe tbody tr th:only-of-type {\n",
       "        vertical-align: middle;\n",
       "    }\n",
       "\n",
       "    .dataframe tbody tr th {\n",
       "        vertical-align: top;\n",
       "    }\n",
       "\n",
       "    .dataframe thead th {\n",
       "        text-align: right;\n",
       "    }\n",
       "</style>\n",
       "<table border=\"1\" class=\"dataframe\">\n",
       "  <thead>\n",
       "    <tr style=\"text-align: right;\">\n",
       "      <th></th>\n",
       "      <th>customer_id</th>\n",
       "      <th>date_of_report</th>\n",
       "      <th>gender</th>\n",
       "      <th>occupation</th>\n",
       "      <th>nationality</th>\n",
       "      <th>race</th>\n",
       "      <th>marital_status</th>\n",
       "      <th>age</th>\n",
       "      <th>home_address</th>\n",
       "      <th>residence_type</th>\n",
       "      <th>educational_qualification</th>\n",
       "      <th>type_of_employment</th>\n",
       "      <th>annual_income</th>\n",
       "      <th>vip_status</th>\n",
       "      <th>number_of_dependents</th>\n",
       "      <th>mobile_app_status</th>\n",
       "      <th>opt_out</th>\n",
       "      <th>customer_with_active_credit_card</th>\n",
       "      <th>current_ca_credit_limit</th>\n",
       "      <th>current_cp_credit_limit</th>\n",
       "      <th>initial_ca_credit_limit</th>\n",
       "      <th>initial_cp_credit_limit</th>\n",
       "      <th>own_multiple_credit_card</th>\n",
       "      <th>supplementary_credit_card</th>\n",
       "      <th>credit_card_branch_location</th>\n",
       "      <th>customer_with_active_prepaid_card</th>\n",
       "      <th>current_prepaid_card_balance</th>\n",
       "      <th>date_of_last_top_up_of_prepaid_card</th>\n",
       "      <th>supplementary_prepaid_card</th>\n",
       "      <th>own_multiple_prepaid_card</th>\n",
       "      <th>prepaid_card_branch_loaction</th>\n",
       "      <th>customer_with_active_financing_product</th>\n",
       "      <th>current_loan_balance</th>\n",
       "      <th>sanctioned_amount</th>\n",
       "      <th>own_multiple_financing_products</th>\n",
       "      <th>financing_product_branch_location</th>\n",
       "      <th>default</th>\n",
       "    </tr>\n",
       "  </thead>\n",
       "  <tbody>\n",
       "    <tr>\n",
       "      <th>0</th>\n",
       "      <td>142932463.0</td>\n",
       "      <td>20220901.0</td>\n",
       "      <td>Female</td>\n",
       "      <td>1d3134e05d4736dd523e8da18153fee1683082c8047194...</td>\n",
       "      <td>522733336a54c81c7cfabcc60dcf26042a4b1d59c4bdf7...</td>\n",
       "      <td>3d0ac26c46f9daaeaff34affc226f2d86300ede16934f3...</td>\n",
       "      <td>8623744e832ac4d2479a3de6c827dfb779ddb769de07f0...</td>\n",
       "      <td>29.0</td>\n",
       "      <td>55100</td>\n",
       "      <td>055a952c818647957a80fc28e0537a01d3ad8e909145b4...</td>\n",
       "      <td>NaN</td>\n",
       "      <td>9fb72472a1bfadde532422630d0a0a2531491064f8e9c2...</td>\n",
       "      <td>33144.36</td>\n",
       "      <td>N</td>\n",
       "      <td>3.0</td>\n",
       "      <td>N</td>\n",
       "      <td>N</td>\n",
       "      <td>N</td>\n",
       "      <td>NaN</td>\n",
       "      <td>NaN</td>\n",
       "      <td>NaN</td>\n",
       "      <td>NaN</td>\n",
       "      <td>N</td>\n",
       "      <td>N</td>\n",
       "      <td>-</td>\n",
       "      <td>N</td>\n",
       "      <td>NaN</td>\n",
       "      <td>NaN</td>\n",
       "      <td>N</td>\n",
       "      <td>N</td>\n",
       "      <td>0</td>\n",
       "      <td>Y</td>\n",
       "      <td>2768.56</td>\n",
       "      <td>2221.0</td>\n",
       "      <td>Y</td>\n",
       "      <td>0</td>\n",
       "      <td>0</td>\n",
       "    </tr>\n",
       "    <tr>\n",
       "      <th>1</th>\n",
       "      <td>133599134.0</td>\n",
       "      <td>20220901.0</td>\n",
       "      <td>Male</td>\n",
       "      <td>d56baa23c666005144806b1143e76f89d80bb0d5087ac4...</td>\n",
       "      <td>522733336a54c81c7cfabcc60dcf26042a4b1d59c4bdf7...</td>\n",
       "      <td>3d0ac26c46f9daaeaff34affc226f2d86300ede16934f3...</td>\n",
       "      <td>8316f8178707dee9ea8c0e44178b4993a37244112fd60a...</td>\n",
       "      <td>26.0</td>\n",
       "      <td>84900</td>\n",
       "      <td>98c723844f9e6aaaa5b2361761bdf8197e0ae4c087c688...</td>\n",
       "      <td>NaN</td>\n",
       "      <td>9fb72472a1bfadde532422630d0a0a2531491064f8e9c2...</td>\n",
       "      <td>21600.00</td>\n",
       "      <td>N</td>\n",
       "      <td>0.0</td>\n",
       "      <td>N</td>\n",
       "      <td>N</td>\n",
       "      <td>N</td>\n",
       "      <td>NaN</td>\n",
       "      <td>NaN</td>\n",
       "      <td>NaN</td>\n",
       "      <td>NaN</td>\n",
       "      <td>N</td>\n",
       "      <td>N</td>\n",
       "      <td>-</td>\n",
       "      <td>N</td>\n",
       "      <td>NaN</td>\n",
       "      <td>NaN</td>\n",
       "      <td>N</td>\n",
       "      <td>N</td>\n",
       "      <td>0</td>\n",
       "      <td>Y</td>\n",
       "      <td>17226.60</td>\n",
       "      <td>15000.0</td>\n",
       "      <td>N</td>\n",
       "      <td>1</td>\n",
       "      <td>0</td>\n",
       "    </tr>\n",
       "    <tr>\n",
       "      <th>2</th>\n",
       "      <td>142155191.0</td>\n",
       "      <td>20220901.0</td>\n",
       "      <td>Female</td>\n",
       "      <td>2591e99784666567fe15b2059e3f2050b0e9d1226bde8f...</td>\n",
       "      <td>522733336a54c81c7cfabcc60dcf26042a4b1d59c4bdf7...</td>\n",
       "      <td>3d0ac26c46f9daaeaff34affc226f2d86300ede16934f3...</td>\n",
       "      <td>8316f8178707dee9ea8c0e44178b4993a37244112fd60a...</td>\n",
       "      <td>29.0</td>\n",
       "      <td>07000</td>\n",
       "      <td>98c723844f9e6aaaa5b2361761bdf8197e0ae4c087c688...</td>\n",
       "      <td>NaN</td>\n",
       "      <td>9fb72472a1bfadde532422630d0a0a2531491064f8e9c2...</td>\n",
       "      <td>20400.00</td>\n",
       "      <td>N</td>\n",
       "      <td>0.0</td>\n",
       "      <td>N</td>\n",
       "      <td>N</td>\n",
       "      <td>N</td>\n",
       "      <td>NaN</td>\n",
       "      <td>NaN</td>\n",
       "      <td>NaN</td>\n",
       "      <td>NaN</td>\n",
       "      <td>N</td>\n",
       "      <td>N</td>\n",
       "      <td>-</td>\n",
       "      <td>N</td>\n",
       "      <td>NaN</td>\n",
       "      <td>NaN</td>\n",
       "      <td>N</td>\n",
       "      <td>N</td>\n",
       "      <td>0</td>\n",
       "      <td>Y</td>\n",
       "      <td>9306.98</td>\n",
       "      <td>10070.0</td>\n",
       "      <td>N</td>\n",
       "      <td>1</td>\n",
       "      <td>0</td>\n",
       "    </tr>\n",
       "    <tr>\n",
       "      <th>3</th>\n",
       "      <td>110561197.0</td>\n",
       "      <td>20220901.0</td>\n",
       "      <td>Female</td>\n",
       "      <td>3c78d9603676c68c5f26d0f4fb2ed5026456cd799b53aa...</td>\n",
       "      <td>522733336a54c81c7cfabcc60dcf26042a4b1d59c4bdf7...</td>\n",
       "      <td>83ad5f646c236e5afc36e3f3353c6f6f8ba983653b117d...</td>\n",
       "      <td>8623744e832ac4d2479a3de6c827dfb779ddb769de07f0...</td>\n",
       "      <td>40.0</td>\n",
       "      <td>58000</td>\n",
       "      <td>c81f5b09f595dd05e9ad3b0fa206caf8a92a2f0f154d28...</td>\n",
       "      <td>NaN</td>\n",
       "      <td>9fb72472a1bfadde532422630d0a0a2531491064f8e9c2...</td>\n",
       "      <td>22616.16</td>\n",
       "      <td>N</td>\n",
       "      <td>4.0</td>\n",
       "      <td>N</td>\n",
       "      <td>N</td>\n",
       "      <td>N</td>\n",
       "      <td>NaN</td>\n",
       "      <td>NaN</td>\n",
       "      <td>NaN</td>\n",
       "      <td>NaN</td>\n",
       "      <td>N</td>\n",
       "      <td>N</td>\n",
       "      <td>-</td>\n",
       "      <td>N</td>\n",
       "      <td>NaN</td>\n",
       "      <td>NaN</td>\n",
       "      <td>N</td>\n",
       "      <td>N</td>\n",
       "      <td>0</td>\n",
       "      <td>Y</td>\n",
       "      <td>3118.96</td>\n",
       "      <td>3510.0</td>\n",
       "      <td>Y</td>\n",
       "      <td>2</td>\n",
       "      <td>1</td>\n",
       "    </tr>\n",
       "    <tr>\n",
       "      <th>4</th>\n",
       "      <td>850084597.0</td>\n",
       "      <td>20220901.0</td>\n",
       "      <td>Female</td>\n",
       "      <td>0be69302b80664a1f1ada55c8edd5f40cf3d5d23fbb48e...</td>\n",
       "      <td>522733336a54c81c7cfabcc60dcf26042a4b1d59c4bdf7...</td>\n",
       "      <td>3d0ac26c46f9daaeaff34affc226f2d86300ede16934f3...</td>\n",
       "      <td>8623744e832ac4d2479a3de6c827dfb779ddb769de07f0...</td>\n",
       "      <td>28.0</td>\n",
       "      <td>43500</td>\n",
       "      <td>fcaa4020673f3cadd8a84f92af02c59f2b586ea2830d6a...</td>\n",
       "      <td>NaN</td>\n",
       "      <td>9fb72472a1bfadde532422630d0a0a2531491064f8e9c2...</td>\n",
       "      <td>31839.12</td>\n",
       "      <td>N</td>\n",
       "      <td>1.0</td>\n",
       "      <td>N</td>\n",
       "      <td>N</td>\n",
       "      <td>N</td>\n",
       "      <td>NaN</td>\n",
       "      <td>NaN</td>\n",
       "      <td>NaN</td>\n",
       "      <td>NaN</td>\n",
       "      <td>N</td>\n",
       "      <td>N</td>\n",
       "      <td>-</td>\n",
       "      <td>N</td>\n",
       "      <td>NaN</td>\n",
       "      <td>NaN</td>\n",
       "      <td>N</td>\n",
       "      <td>N</td>\n",
       "      <td>0</td>\n",
       "      <td>N</td>\n",
       "      <td>NaN</td>\n",
       "      <td>NaN</td>\n",
       "      <td>N</td>\n",
       "      <td>3</td>\n",
       "      <td>0</td>\n",
       "    </tr>\n",
       "  </tbody>\n",
       "</table>\n",
       "</div>"
      ],
      "text/plain": [
       "   customer_id  date_of_report  gender  \\\n",
       "0  142932463.0      20220901.0  Female   \n",
       "1  133599134.0      20220901.0    Male   \n",
       "2  142155191.0      20220901.0  Female   \n",
       "3  110561197.0      20220901.0  Female   \n",
       "4  850084597.0      20220901.0  Female   \n",
       "\n",
       "                                          occupation  \\\n",
       "0  1d3134e05d4736dd523e8da18153fee1683082c8047194...   \n",
       "1  d56baa23c666005144806b1143e76f89d80bb0d5087ac4...   \n",
       "2  2591e99784666567fe15b2059e3f2050b0e9d1226bde8f...   \n",
       "3  3c78d9603676c68c5f26d0f4fb2ed5026456cd799b53aa...   \n",
       "4  0be69302b80664a1f1ada55c8edd5f40cf3d5d23fbb48e...   \n",
       "\n",
       "                                         nationality  \\\n",
       "0  522733336a54c81c7cfabcc60dcf26042a4b1d59c4bdf7...   \n",
       "1  522733336a54c81c7cfabcc60dcf26042a4b1d59c4bdf7...   \n",
       "2  522733336a54c81c7cfabcc60dcf26042a4b1d59c4bdf7...   \n",
       "3  522733336a54c81c7cfabcc60dcf26042a4b1d59c4bdf7...   \n",
       "4  522733336a54c81c7cfabcc60dcf26042a4b1d59c4bdf7...   \n",
       "\n",
       "                                                race  \\\n",
       "0  3d0ac26c46f9daaeaff34affc226f2d86300ede16934f3...   \n",
       "1  3d0ac26c46f9daaeaff34affc226f2d86300ede16934f3...   \n",
       "2  3d0ac26c46f9daaeaff34affc226f2d86300ede16934f3...   \n",
       "3  83ad5f646c236e5afc36e3f3353c6f6f8ba983653b117d...   \n",
       "4  3d0ac26c46f9daaeaff34affc226f2d86300ede16934f3...   \n",
       "\n",
       "                                      marital_status   age home_address  \\\n",
       "0  8623744e832ac4d2479a3de6c827dfb779ddb769de07f0...  29.0        55100   \n",
       "1  8316f8178707dee9ea8c0e44178b4993a37244112fd60a...  26.0        84900   \n",
       "2  8316f8178707dee9ea8c0e44178b4993a37244112fd60a...  29.0        07000   \n",
       "3  8623744e832ac4d2479a3de6c827dfb779ddb769de07f0...  40.0        58000   \n",
       "4  8623744e832ac4d2479a3de6c827dfb779ddb769de07f0...  28.0        43500   \n",
       "\n",
       "                                      residence_type  \\\n",
       "0  055a952c818647957a80fc28e0537a01d3ad8e909145b4...   \n",
       "1  98c723844f9e6aaaa5b2361761bdf8197e0ae4c087c688...   \n",
       "2  98c723844f9e6aaaa5b2361761bdf8197e0ae4c087c688...   \n",
       "3  c81f5b09f595dd05e9ad3b0fa206caf8a92a2f0f154d28...   \n",
       "4  fcaa4020673f3cadd8a84f92af02c59f2b586ea2830d6a...   \n",
       "\n",
       "  educational_qualification  \\\n",
       "0                       NaN   \n",
       "1                       NaN   \n",
       "2                       NaN   \n",
       "3                       NaN   \n",
       "4                       NaN   \n",
       "\n",
       "                                  type_of_employment  annual_income  \\\n",
       "0  9fb72472a1bfadde532422630d0a0a2531491064f8e9c2...       33144.36   \n",
       "1  9fb72472a1bfadde532422630d0a0a2531491064f8e9c2...       21600.00   \n",
       "2  9fb72472a1bfadde532422630d0a0a2531491064f8e9c2...       20400.00   \n",
       "3  9fb72472a1bfadde532422630d0a0a2531491064f8e9c2...       22616.16   \n",
       "4  9fb72472a1bfadde532422630d0a0a2531491064f8e9c2...       31839.12   \n",
       "\n",
       "  vip_status  number_of_dependents mobile_app_status opt_out  \\\n",
       "0          N                   3.0                 N       N   \n",
       "1          N                   0.0                 N       N   \n",
       "2          N                   0.0                 N       N   \n",
       "3          N                   4.0                 N       N   \n",
       "4          N                   1.0                 N       N   \n",
       "\n",
       "  customer_with_active_credit_card  current_ca_credit_limit  \\\n",
       "0                                N                      NaN   \n",
       "1                                N                      NaN   \n",
       "2                                N                      NaN   \n",
       "3                                N                      NaN   \n",
       "4                                N                      NaN   \n",
       "\n",
       "   current_cp_credit_limit  initial_ca_credit_limit  initial_cp_credit_limit  \\\n",
       "0                      NaN                      NaN                      NaN   \n",
       "1                      NaN                      NaN                      NaN   \n",
       "2                      NaN                      NaN                      NaN   \n",
       "3                      NaN                      NaN                      NaN   \n",
       "4                      NaN                      NaN                      NaN   \n",
       "\n",
       "  own_multiple_credit_card supplementary_credit_card  \\\n",
       "0                        N                         N   \n",
       "1                        N                         N   \n",
       "2                        N                         N   \n",
       "3                        N                         N   \n",
       "4                        N                         N   \n",
       "\n",
       "  credit_card_branch_location customer_with_active_prepaid_card  \\\n",
       "0                           -                                 N   \n",
       "1                           -                                 N   \n",
       "2                           -                                 N   \n",
       "3                           -                                 N   \n",
       "4                           -                                 N   \n",
       "\n",
       "   current_prepaid_card_balance  date_of_last_top_up_of_prepaid_card  \\\n",
       "0                           NaN                                  NaN   \n",
       "1                           NaN                                  NaN   \n",
       "2                           NaN                                  NaN   \n",
       "3                           NaN                                  NaN   \n",
       "4                           NaN                                  NaN   \n",
       "\n",
       "  supplementary_prepaid_card own_multiple_prepaid_card  \\\n",
       "0                          N                         N   \n",
       "1                          N                         N   \n",
       "2                          N                         N   \n",
       "3                          N                         N   \n",
       "4                          N                         N   \n",
       "\n",
       "   prepaid_card_branch_loaction customer_with_active_financing_product  \\\n",
       "0                             0                                      Y   \n",
       "1                             0                                      Y   \n",
       "2                             0                                      Y   \n",
       "3                             0                                      Y   \n",
       "4                             0                                      N   \n",
       "\n",
       "   current_loan_balance  sanctioned_amount own_multiple_financing_products  \\\n",
       "0               2768.56             2221.0                               Y   \n",
       "1              17226.60            15000.0                               N   \n",
       "2               9306.98            10070.0                               N   \n",
       "3               3118.96             3510.0                               Y   \n",
       "4                   NaN                NaN                               N   \n",
       "\n",
       "   financing_product_branch_location  default  \n",
       "0                                  0        0  \n",
       "1                                  1        0  \n",
       "2                                  1        0  \n",
       "3                                  2        1  \n",
       "4                                  3        0  "
      ]
     },
     "execution_count": 22,
     "metadata": {},
     "output_type": "execute_result"
    }
   ],
   "source": [
    "df_main.head()"
   ]
  },
  {
   "cell_type": "markdown",
   "metadata": {},
   "source": [
    "## EDA of the dataframe\n",
    "\n",
    "I've used pandas_profiling library here to have a quick view of all the fields and various stats about the field. this library has interactive feature to navigate between matric. you may find the offline file inside **/EDA/output.html** file.  "
   ]
  },
  {
   "cell_type": "code",
   "execution_count": 17,
   "metadata": {},
   "outputs": [
    {
     "data": {
      "application/json": {
       "ascii": false,
       "bar_format": null,
       "colour": null,
       "elapsed": 0.021561384201049805,
       "initial": 0,
       "n": 0,
       "ncols": null,
       "nrows": null,
       "postfix": null,
       "prefix": "Summarize dataset",
       "rate": null,
       "total": 50,
       "unit": "it",
       "unit_divisor": 1000,
       "unit_scale": false
      },
      "application/vnd.jupyter.widget-view+json": {
       "model_id": "6bc8b4ca54b8492f882d3efaa247caec",
       "version_major": 2,
       "version_minor": 0
      },
      "text/plain": [
       "Summarize dataset:   0%|          | 0/50 [00:00<?, ?it/s]"
      ]
     },
     "metadata": {},
     "output_type": "display_data"
    },
    {
     "data": {
      "application/json": {
       "ascii": false,
       "bar_format": null,
       "colour": null,
       "elapsed": 0.02015066146850586,
       "initial": 0,
       "n": 0,
       "ncols": null,
       "nrows": null,
       "postfix": null,
       "prefix": "Generate report structure",
       "rate": null,
       "total": 1,
       "unit": "it",
       "unit_divisor": 1000,
       "unit_scale": false
      },
      "application/vnd.jupyter.widget-view+json": {
       "model_id": "b34be85e2b1e4900810679bb32ad97ca",
       "version_major": 2,
       "version_minor": 0
      },
      "text/plain": [
       "Generate report structure:   0%|          | 0/1 [00:00<?, ?it/s]"
      ]
     },
     "metadata": {},
     "output_type": "display_data"
    },
    {
     "data": {
      "application/json": {
       "ascii": false,
       "bar_format": null,
       "colour": null,
       "elapsed": 0.020093917846679688,
       "initial": 0,
       "n": 0,
       "ncols": null,
       "nrows": null,
       "postfix": null,
       "prefix": "Render HTML",
       "rate": null,
       "total": 1,
       "unit": "it",
       "unit_divisor": 1000,
       "unit_scale": false
      },
      "application/vnd.jupyter.widget-view+json": {
       "model_id": "f11cbff488e8427d8ca3dfcae0225490",
       "version_major": 2,
       "version_minor": 0
      },
      "text/plain": [
       "Render HTML:   0%|          | 0/1 [00:00<?, ?it/s]"
      ]
     },
     "metadata": {},
     "output_type": "display_data"
    },
    {
     "data": {
      "application/json": {
       "ascii": false,
       "bar_format": null,
       "colour": null,
       "elapsed": 0.020832300186157227,
       "initial": 0,
       "n": 0,
       "ncols": null,
       "nrows": null,
       "postfix": null,
       "prefix": "Export report to file",
       "rate": null,
       "total": 1,
       "unit": "it",
       "unit_divisor": 1000,
       "unit_scale": false
      },
      "application/vnd.jupyter.widget-view+json": {
       "model_id": "4f6b9184b0ee4ba09a54426d3766d582",
       "version_major": 2,
       "version_minor": 0
      },
      "text/plain": [
       "Export report to file:   0%|          | 0/1 [00:00<?, ?it/s]"
      ]
     },
     "metadata": {},
     "output_type": "display_data"
    }
   ],
   "source": [
    "prof = ProfileReport(df_main)\n",
    "prof.to_file(output_file=os.getcwd()+'/EDA/output.html')"
   ]
  },
  {
   "cell_type": "code",
   "execution_count": null,
   "metadata": {},
   "outputs": [],
   "source": [
    "#run below commands if you want to run\n",
    "\n",
    "# prof"
   ]
  },
  {
   "cell_type": "markdown",
   "metadata": {},
   "source": [
    "# Data Cleaning"
   ]
  },
  {
   "cell_type": "markdown",
   "metadata": {},
   "source": [
    "## number_of_dependents\n",
    "\n",
    "<img src=\"markdown/number_of_dependents.png\" width=1000 height=1000 />\n",
    "\n",
    "|-- EDA --|\n",
    "1. I've observerd some extreme values in this field at both end (lower : -1 & Upper: 83), \n",
    "2. 48% of customers doesn't have any dependencies.\n",
    "\n",
    "|-- Proposed cleaning --|\n",
    "\n",
    "1. Replace -1 with 0 as it is just 32\n",
    "2. according to www.statista.com average household size is 3.9 (~4), so I'll update all the all value more than 4 as 5 to limit the number of group in this feature\n",
    "   Ref: https://www.statista.com/statistics/1047856/malaysia-average-household-size/"
   ]
  },
  {
   "cell_type": "code",
   "execution_count": 48,
   "metadata": {},
   "outputs": [],
   "source": [
    "df_main['_number_of_dependents'] = df_main['number_of_dependents'].apply(lambda X: 0 if X==-1 else 5 if X>4 else X)\n",
    "\n",
    "# Replace Null will majority class\n",
    "df_main['_number_of_dependents'].fillna(0,inplace = True)"
   ]
  },
  {
   "cell_type": "code",
   "execution_count": 49,
   "metadata": {},
   "outputs": [
    {
     "data": {
      "text/plain": [
       "_number_of_dependents\n",
       "0.0    1114931\n",
       "1.0     347207\n",
       "2.0     318779\n",
       "3.0     231967\n",
       "4.0     179798\n",
       "5.0     242181\n",
       "dtype: int64"
      ]
     },
     "execution_count": 49,
     "metadata": {},
     "output_type": "execute_result"
    }
   ],
   "source": [
    "df_main.groupby('_number_of_dependents').size()"
   ]
  },
  {
   "cell_type": "code",
   "execution_count": 47,
   "metadata": {},
   "outputs": [
    {
     "data": {
      "text/html": [
       "<div>\n",
       "<style scoped>\n",
       "    .dataframe tbody tr th:only-of-type {\n",
       "        vertical-align: middle;\n",
       "    }\n",
       "\n",
       "    .dataframe tbody tr th {\n",
       "        vertical-align: top;\n",
       "    }\n",
       "\n",
       "    .dataframe thead th {\n",
       "        text-align: right;\n",
       "    }\n",
       "</style>\n",
       "<table border=\"1\" class=\"dataframe\">\n",
       "  <thead>\n",
       "    <tr style=\"text-align: right;\">\n",
       "      <th></th>\n",
       "      <th>_number_of_dependents</th>\n",
       "      <th>number_of_dependents</th>\n",
       "    </tr>\n",
       "  </thead>\n",
       "  <tbody>\n",
       "    <tr>\n",
       "      <th>3187</th>\n",
       "      <td>NaN</td>\n",
       "      <td>NaN</td>\n",
       "    </tr>\n",
       "    <tr>\n",
       "      <th>13608</th>\n",
       "      <td>NaN</td>\n",
       "      <td>NaN</td>\n",
       "    </tr>\n",
       "    <tr>\n",
       "      <th>31276</th>\n",
       "      <td>NaN</td>\n",
       "      <td>NaN</td>\n",
       "    </tr>\n",
       "    <tr>\n",
       "      <th>50938</th>\n",
       "      <td>NaN</td>\n",
       "      <td>NaN</td>\n",
       "    </tr>\n",
       "    <tr>\n",
       "      <th>52064</th>\n",
       "      <td>NaN</td>\n",
       "      <td>NaN</td>\n",
       "    </tr>\n",
       "  </tbody>\n",
       "</table>\n",
       "</div>"
      ],
      "text/plain": [
       "       _number_of_dependents  number_of_dependents\n",
       "3187                     NaN                   NaN\n",
       "13608                    NaN                   NaN\n",
       "31276                    NaN                   NaN\n",
       "50938                    NaN                   NaN\n",
       "52064                    NaN                   NaN"
      ]
     },
     "execution_count": 47,
     "metadata": {},
     "output_type": "execute_result"
    }
   ],
   "source": [
    "df_main[df_main['_number_of_dependents'].isnull()][['_number_of_dependents','number_of_dependents']].head()"
   ]
  },
  {
   "cell_type": "markdown",
   "metadata": {},
   "source": [
    "## gender\n",
    "\n",
    "<img src=\"markdown/gender.png\" width=1000 height=1000 />\n",
    "\n",
    "|-- EDA --|\n",
    "1. 63% customers are male\n",
    "\n",
    "|-- Proposed cleaning --|\n",
    "\n",
    "1. Replace Unknown gender as Male (as majority) to limit the category to only Male & Female"
   ]
  },
  {
   "cell_type": "code",
   "execution_count": 6,
   "metadata": {},
   "outputs": [],
   "source": [
    "df_main['_gender'] = df_main['gender'].apply(lambda X: 'Male' if X== 'Unknown' else X)"
   ]
  },
  {
   "cell_type": "code",
   "execution_count": 32,
   "metadata": {},
   "outputs": [
    {
     "data": {
      "text/plain": [
       "_gender\n",
       "Female     900034\n",
       "Male      1534829\n",
       "dtype: int64"
      ]
     },
     "execution_count": 32,
     "metadata": {},
     "output_type": "execute_result"
    }
   ],
   "source": [
    "df_main.groupby('_gender').size()"
   ]
  },
  {
   "cell_type": "code",
   "execution_count": null,
   "metadata": {},
   "outputs": [],
   "source": []
  },
  {
   "cell_type": "markdown",
   "metadata": {},
   "source": [
    "## age\n",
    "\n",
    "<img src=\"markdown/age.png\" width=1000 height=1000 />\n",
    "\n",
    "|--Sample Data--|\n",
    "\n",
    "age  \n",
    "0.0   -      383  \n",
    "9.0   -       2  \n",
    "13.0  -       1  \n",
    "15.0  -       1  \n",
    "17.0  -       2  \n",
    "18.0  -     224  \n",
    "19.0  -    4203  \n",
    "\n",
    "|-- EDA --|\n",
    "1. ~400 record having age less than 18 which seems to be wrongly posted.\n",
    "2. there are customer with age more than 65 years which is un usual for a senior citizen\n",
    "\n",
    "|-- Proposed cleaning --|\n",
    "1. update age to 18 who have the age <18\n",
    "2. Update age to 66 who have the age>65"
   ]
  },
  {
   "cell_type": "code",
   "execution_count": 59,
   "metadata": {},
   "outputs": [],
   "source": [
    "df_main['_age'] = df_main['age'].apply(lambda X: 18 if X<=18 else 66 if X>65 else X)"
   ]
  },
  {
   "cell_type": "code",
   "execution_count": 31,
   "metadata": {},
   "outputs": [
    {
     "data": {
      "text/plain": [
       "(0, 45)"
      ]
     },
     "execution_count": 31,
     "metadata": {},
     "output_type": "execute_result"
    }
   ],
   "source": [
    "df_main[df_main['customer_id']=='270000747.0']['age'].shape"
   ]
  },
  {
   "cell_type": "markdown",
   "metadata": {},
   "source": [
    "## race\n",
    "\n",
    "<img src=\"markdown/race.png\" width=1000 height=1000 />\n",
    "\n",
    "|--Sample Data--|\n",
    "\n",
    "race  \n",
    "3d0ac26c46f9daaeaff34affc226f2d86300ede16934f3194ef49a5f56c676b5 -   1929101  \n",
    "99b0a2098212fca2a4b7e72c48081e4290f2f75004ba54d402df38647113cacc -    232116  \n",
    "83ad5f646c236e5afc36e3f3353c6f6f8ba983653b117d5340f9a5248fe11d00 -    181816  \n",
    "97e44d546f8c88f0a19f0e8db7e2069337b7e6924b7cd230a00710d7b9b53d00 -     91447  \n",
    "b764cdc0eab7137467211272fa539f1260d1bf2e71bcf6ff3bdc960f5c16aa14 -       383  \n",
    "\n",
    "|-- EDA --|  \n",
    "1. there are only 5 race category, better to rename the encrypted value.\n",
    "\n",
    "|-- Proposed cleaning --|  \n",
    "1. replace the long encrypted value to a short form for better understanding"
   ]
  },
  {
   "cell_type": "code",
   "execution_count": 32,
   "metadata": {},
   "outputs": [],
   "source": [
    "_race = {'3d0ac26c46f9daaeaff34affc226f2d86300ede16934f3194ef49a5f56c676b5':'1',\n",
    "         '99b0a2098212fca2a4b7e72c48081e4290f2f75004ba54d402df38647113cacc':'2',\n",
    "         '83ad5f646c236e5afc36e3f3353c6f6f8ba983653b117d5340f9a5248fe11d00':'3',\n",
    "         '97e44d546f8c88f0a19f0e8db7e2069337b7e6924b7cd230a00710d7b9b53d00':'4',\n",
    "         'b764cdc0eab7137467211272fa539f1260d1bf2e71bcf6ff3bdc960f5c16aa14':'5'}"
   ]
  },
  {
   "cell_type": "code",
   "execution_count": 33,
   "metadata": {},
   "outputs": [],
   "source": [
    "df_main['_race'] = df_main['race'].apply(lambda X: _race[X])"
   ]
  },
  {
   "cell_type": "code",
   "execution_count": 42,
   "metadata": {},
   "outputs": [
    {
     "data": {
      "text/plain": [
       "_race\n",
       "race_1    1929101\n",
       "race_2     232116\n",
       "race_3     181816\n",
       "race_4      91447\n",
       "race_5        383\n",
       "dtype: int64"
      ]
     },
     "execution_count": 42,
     "metadata": {},
     "output_type": "execute_result"
    }
   ],
   "source": [
    "df_main.groupby('_race').size()"
   ]
  },
  {
   "cell_type": "code",
   "execution_count": null,
   "metadata": {},
   "outputs": [],
   "source": []
  },
  {
   "cell_type": "markdown",
   "metadata": {},
   "source": [
    "## marital_status\n",
    "\n",
    "<img src=\"markdown/marital_status.png\" width=1000 height=1000 />\n",
    "\n",
    "|--Sample Data--|\n",
    "\n",
    "marital_status  \n",
    "8623744e832ac4d2479a3de6c827dfb779ddb769de07f0a0b2567f27b6cb45f5  -  1500428  \n",
    "8316f8178707dee9ea8c0e44178b4993a37244112fd60a0be23dae005a3dca01  -   887912  \n",
    "10a033a3053ce4de82085eef58d58d9ed93638cb095d4c6747e992305aebdcbf  -    29083  \n",
    "14a1e8ee89b963b94242cbb2fbfbb1327eb20846632856b18f0562d2218d7371  -    17025  \n",
    "b764cdc0eab7137467211272fa539f1260d1bf2e71bcf6ff3bdc960f5c16aa14  -      383    \n",
    "\n",
    "|-- EDA --|  \n",
    "1. there are only 5 marital_status , better to rename the encrypted value.  \n",
    "2. there are 32 NaN values  \n",
    "\n",
    "|-- Proposed cleaning --|    \n",
    "1. replace the long encrypted value to a short and meaningfull form for better understanding  \n",
    "2. 32 NaN value will replace with the majority class"
   ]
  },
  {
   "cell_type": "code",
   "execution_count": 34,
   "metadata": {},
   "outputs": [],
   "source": [
    "## dictionary for maritial status\n",
    "_marital_status = {'8623744e832ac4d2479a3de6c827dfb779ddb769de07f0a0b2567f27b6cb45f5':'1',\n",
    "                   '8316f8178707dee9ea8c0e44178b4993a37244112fd60a0be23dae005a3dca01':'2',\n",
    "                   '10a033a3053ce4de82085eef58d58d9ed93638cb095d4c6747e992305aebdcbf':'3',\n",
    "                   '14a1e8ee89b963b94242cbb2fbfbb1327eb20846632856b18f0562d2218d7371':'4',\n",
    "                   'b764cdc0eab7137467211272fa539f1260d1bf2e71bcf6ff3bdc960f5c16aa14':'5'}"
   ]
  },
  {
   "cell_type": "code",
   "execution_count": 35,
   "metadata": {},
   "outputs": [],
   "source": [
    "## Fill the missing values with the majority class\n",
    "df_main['marital_status'] = df_main['marital_status'].fillna('8623744e832ac4d2479a3de6c827dfb779ddb769de07f0a0b2567f27b6cb45f5')"
   ]
  },
  {
   "cell_type": "code",
   "execution_count": 36,
   "metadata": {},
   "outputs": [],
   "source": [
    "df_main['_marital_status'] = df_main['marital_status'].apply(lambda X: _marital_status[X])"
   ]
  },
  {
   "cell_type": "code",
   "execution_count": 59,
   "metadata": {},
   "outputs": [
    {
     "data": {
      "text/plain": [
       "_marital_status\n",
       "marital_status_1    1500460\n",
       "marital_status_2     887912\n",
       "marital_status_3      29083\n",
       "marital_status_4      17025\n",
       "marital_status_5        383\n",
       "dtype: int64"
      ]
     },
     "execution_count": 59,
     "metadata": {},
     "output_type": "execute_result"
    }
   ],
   "source": [
    "df_main.groupby('_marital_status').size()"
   ]
  },
  {
   "cell_type": "markdown",
   "metadata": {},
   "source": [
    "## residence_type\n",
    "\n",
    "<img src=\"markdown/residence_type.png\" width=1000 height=1000 />\n",
    "\n",
    "|--Sample Data--|\n",
    "\n",
    "residence_type  \n",
    "ebdad9ba4c5e3ce0078ad8e8fb31e4c76176834cd2370f05bd043e4baf8d6c5a -     9715  \n",
    "fcaa4020673f3cadd8a84f92af02c59f2b586ea2830d6a078961513287c98dbe -    80307  \n",
    "a3ccf1236ee8a45f9dd05b9db992f701d0aba9006879742d48ca2f10191bee90 -   165195  \n",
    "055a952c818647957a80fc28e0537a01d3ad8e909145b4945f40fc6b508b5506 -   207907  \n",
    "3f61f7d37f20290d7d17f55ce5656469c8d894046147962773153d5bdffc5872 -   449127  \n",
    "98c723844f9e6aaaa5b2361761bdf8197e0ae4c087c688a3212248e0d40ef4e6 -   735796  \n",
    "c81f5b09f595dd05e9ad3b0fa206caf8a92a2f0f154d2885451ddf7f09768e6c -   784974  \n",
    "\n",
    "|-- EDA --|  \n",
    "1. there are only 7 marital_status , better to rename the encrypted value.  \n",
    "2. there are 1842 NaN values  \n",
    "\n",
    "|-- Proposed cleaning --|    \n",
    "1. replace the long encrypted value to a short and meaningfull form for better understanding  \n",
    "2. 32 NaN value will replace with the majority class"
   ]
  },
  {
   "cell_type": "code",
   "execution_count": 37,
   "metadata": {},
   "outputs": [],
   "source": [
    "## dictionary for maritial status\n",
    "_residence_type = {'c81f5b09f595dd05e9ad3b0fa206caf8a92a2f0f154d2885451ddf7f09768e6c':'1',\n",
    "                   '98c723844f9e6aaaa5b2361761bdf8197e0ae4c087c688a3212248e0d40ef4e6':'2',\n",
    "                   '3f61f7d37f20290d7d17f55ce5656469c8d894046147962773153d5bdffc5872':'3',\n",
    "                   '055a952c818647957a80fc28e0537a01d3ad8e909145b4945f40fc6b508b5506':'4',\n",
    "                   'a3ccf1236ee8a45f9dd05b9db992f701d0aba9006879742d48ca2f10191bee90':'5',\n",
    "                   'fcaa4020673f3cadd8a84f92af02c59f2b586ea2830d6a078961513287c98dbe':'6',\n",
    "                   'ebdad9ba4c5e3ce0078ad8e8fb31e4c76176834cd2370f05bd043e4baf8d6c5a':'7'}"
   ]
  },
  {
   "cell_type": "code",
   "execution_count": 38,
   "metadata": {},
   "outputs": [],
   "source": [
    "## Fill the missing values with the majority class\n",
    "df_main['residence_type'] = df_main['residence_type'].fillna('c81f5b09f595dd05e9ad3b0fa206caf8a92a2f0f154d2885451ddf7f09768e6c')"
   ]
  },
  {
   "cell_type": "code",
   "execution_count": 39,
   "metadata": {},
   "outputs": [],
   "source": [
    "df_main['_residence_type'] = df_main['residence_type'].apply(lambda X: _residence_type[X])"
   ]
  },
  {
   "cell_type": "code",
   "execution_count": 40,
   "metadata": {},
   "outputs": [
    {
     "data": {
      "text/plain": [
       "_residence_type\n",
       "7      9715\n",
       "6     80307\n",
       "5    165195\n",
       "4    207907\n",
       "3    449127\n",
       "2    735796\n",
       "1    786816\n",
       "dtype: int64"
      ]
     },
     "execution_count": 40,
     "metadata": {},
     "output_type": "execute_result"
    }
   ],
   "source": [
    "df_main.groupby('_residence_type').size().sort_values()"
   ]
  },
  {
   "cell_type": "code",
   "execution_count": null,
   "metadata": {},
   "outputs": [],
   "source": []
  },
  {
   "cell_type": "code",
   "execution_count": null,
   "metadata": {},
   "outputs": [],
   "source": []
  },
  {
   "cell_type": "markdown",
   "metadata": {},
   "source": [
    "## type_of_employment\n",
    "\n",
    "<img src=\"markdown/type_of_employment.png\" width=1000 height=1000 />\n",
    "\n",
    "|--Sample Data--|\n",
    "\n",
    "type_of_employment  \n",
    "9fb72472a1bfadde532422630d0a0a2531491064f8e9c2e6cc706487159c9920 -  2342713  \n",
    "32f074477f7f9efed2b283e51bf8ae7c641d01ee446f44ab30b609bc916d59c2 -    92150   \n",
    "\n",
    "|-- EDA --|  \n",
    "1. there are only 2 type_of_employment category , better to rename the encrypted value.  \n",
    "2. there are 16469 NaN values  \n",
    "\n",
    "|-- Proposed cleaning --|    \n",
    "1. replace the long encrypted value to a short and meaningfull form for better understanding  \n",
    "2. 32 NaN value will replace with the majority class"
   ]
  },
  {
   "cell_type": "code",
   "execution_count": 16,
   "metadata": {},
   "outputs": [],
   "source": [
    "## Fill the missing values with the majority class\n",
    "df_main['type_of_employment'] = df_main['type_of_employment'].fillna('9fb72472a1bfadde532422630d0a0a2531491064f8e9c2e6cc706487159c9920')"
   ]
  },
  {
   "cell_type": "code",
   "execution_count": 41,
   "metadata": {},
   "outputs": [],
   "source": [
    "## dictionary for type_of_employment\n",
    "_type_of_employment = {'9fb72472a1bfadde532422630d0a0a2531491064f8e9c2e6cc706487159c9920':'1',\n",
    "                       '32f074477f7f9efed2b283e51bf8ae7c641d01ee446f44ab30b609bc916d59c2':'2'\n",
    "                      }"
   ]
  },
  {
   "cell_type": "code",
   "execution_count": 42,
   "metadata": {},
   "outputs": [],
   "source": [
    "df_main['_type_of_employment'] = df_main['type_of_employment'].apply(lambda X: _type_of_employment[X])"
   ]
  },
  {
   "cell_type": "code",
   "execution_count": 43,
   "metadata": {},
   "outputs": [
    {
     "data": {
      "text/plain": [
       "_type_of_employment\n",
       "2      92150\n",
       "1    2342713\n",
       "dtype: int64"
      ]
     },
     "execution_count": 43,
     "metadata": {},
     "output_type": "execute_result"
    }
   ],
   "source": [
    "df_main.groupby('_type_of_employment').size().sort_values()"
   ]
  },
  {
   "cell_type": "markdown",
   "metadata": {},
   "source": [
    "## current_loan_balance\n",
    "\n",
    "<img src=\"markdown/current_loan_balance.png\" width=1000 height=1000 />\n",
    "\n",
    "|-- EDA --|  \n",
    "1. ~45% of data is null\n",
    "2. ~50% of customer doesn't have any outstanding loan\n",
    "\n",
    "|-- Proposed cleaning --|    \n",
    "1. replace null will zeroes"
   ]
  },
  {
   "cell_type": "code",
   "execution_count": 20,
   "metadata": {},
   "outputs": [],
   "source": [
    "df_main['current_loan_balance'] = df_main['current_loan_balance'].fillna(0)"
   ]
  },
  {
   "cell_type": "code",
   "execution_count": null,
   "metadata": {},
   "outputs": [],
   "source": []
  },
  {
   "cell_type": "markdown",
   "metadata": {},
   "source": [
    "## sanctioned_amount\n",
    "\n",
    "<img src=\"markdown/sanctioned_amount.png\" width=1000 height=1000 />\n",
    "\n",
    "|-- EDA --|  \n",
    "1. ~45% of data is null\n",
    "2. ~50% of customer doesn't have any sanctioned amount\n",
    "\n",
    "|-- Proposed cleaning --|    \n",
    "1. replace null will zeroes"
   ]
  },
  {
   "cell_type": "code",
   "execution_count": 24,
   "metadata": {},
   "outputs": [],
   "source": [
    "df_main['sanctioned_amount'] = df_main['sanctioned_amount'].fillna(0)"
   ]
  },
  {
   "cell_type": "code",
   "execution_count": null,
   "metadata": {},
   "outputs": [],
   "source": []
  },
  {
   "cell_type": "markdown",
   "metadata": {},
   "source": [
    "## nationality\n",
    "\n",
    "<img src=\"markdown/nationality.png\" width=1000 height=1000 />\n",
    "\n",
    "|-- Sample Data --|  \n",
    "\n",
    "'522733336a54c81c7cfabcc60dcf26042a4b1d59c4bdf76eafa7c5b79e7e9af6'  \n",
    "'522733336a54c81c7cfabcc60dcf26042a4b1d59c4bdf76eafa7c5b79e7e9af6'  \n",
    "'522733336a54c81c7cfabcc60dcf26042a4b1d59c4bdf76eafa7c5b79e7e9af6'  \n",
    "'522733336a54c81c7cfabcc60dcf26042a4b1d59c4bdf76eafa7c5b79e7e9af6'  \n",
    "'522733336a54c81c7cfabcc60dcf26042a4b1d59c4bdf76eafa7c5b79e7e9af6'\n",
    "\n",
    "|-- EDA --|  \n",
    "1. majority (99.8%) of the records belong to same nationality\n",
    "\n",
    "|-- Proposed cleaning --|    \n",
    "1. Group rest of the nationality into one single group and leave the majority one as it is."
   ]
  },
  {
   "cell_type": "code",
   "execution_count": 44,
   "metadata": {},
   "outputs": [],
   "source": [
    "df_main['_nationality'] = df_main['nationality'].apply(lambda X: '1' if X =='522733336a54c81c7cfabcc60dcf26042a4b1d59c4bdf76eafa7c5b79e7e9af6' else '2')"
   ]
  },
  {
   "cell_type": "markdown",
   "metadata": {},
   "source": [
    "# Export the file for Modelling\n",
    "\n",
    "Data cleaning has been done, will export the data into csv and proceed for feature engineering and model development."
   ]
  },
  {
   "cell_type": "code",
   "execution_count": 62,
   "metadata": {},
   "outputs": [],
   "source": [
    "df_main.to_csv('output_data/customer_after_data_clean.csv',index=False)"
   ]
  },
  {
   "cell_type": "code",
   "execution_count": null,
   "metadata": {},
   "outputs": [],
   "source": []
  }
 ],
 "metadata": {
  "kernelspec": {
   "display_name": "Python 3 (ipykernel)",
   "language": "python",
   "name": "python3"
  },
  "language_info": {
   "codemirror_mode": {
    "name": "ipython",
    "version": 3
   },
   "file_extension": ".py",
   "mimetype": "text/x-python",
   "name": "python",
   "nbconvert_exporter": "python",
   "pygments_lexer": "ipython3",
   "version": "3.9.13"
  },
  "toc-autonumbering": true,
  "toc-showcode": false
 },
 "nbformat": 4,
 "nbformat_minor": 4
}
